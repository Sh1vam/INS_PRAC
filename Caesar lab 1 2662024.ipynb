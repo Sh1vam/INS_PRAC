{
 "cells": [
  {
   "cell_type": "markdown",
   "id": "a782759e",
   "metadata": {},
   "source": [
    "# Practical 1\n",
    "## To implement Caesar cipher encryption-decryption."
   ]
  },
  {
   "cell_type": "markdown",
   "id": "ca26b684-e177-4475-b43f-a03cde2e447d",
   "metadata": {},
   "source": [
    "### Caesar cipher encryption"
   ]
  },
  {
   "cell_type": "code",
   "execution_count": 1,
   "id": "3fb5e223",
   "metadata": {},
   "outputs": [],
   "source": [
    "def encrypt(msg,key):\n",
    "    l=[]\n",
    "    e=[]\n",
    "    for i in msg:\n",
    "        l.append(i)\n",
    "    #print(l)\n",
    "    for x in range(0,len(l)):\n",
    "        for y in l[x]:\n",
    "            e.append(chr(ord(y)+key))\n",
    "    return \"\".join(e)\n"
   ]
  },
  {
   "cell_type": "markdown",
   "id": "a9e310c3-82af-4616-bca2-49bc1ea241ed",
   "metadata": {},
   "source": [
    "### Caesar cipher decryption"
   ]
  },
  {
   "cell_type": "code",
   "execution_count": 2,
   "id": "c370bddf",
   "metadata": {},
   "outputs": [],
   "source": [
    "def decrypt(msg,key):\n",
    "    l=[]\n",
    "    d=[]\n",
    "    for i in msg:\n",
    "        l.append(i)\n",
    "    #print(l)\n",
    "    for x in range(0,len(l)):\n",
    "        for y in l[x]:\n",
    "            d.append(chr(ord(y)-key))\n",
    "    return \"\".join(d)\n"
   ]
  },
  {
   "cell_type": "code",
   "execution_count": 3,
   "id": "e9740ab6",
   "metadata": {},
   "outputs": [
    {
     "name": "stdin",
     "output_type": "stream",
     "text": [
      "Enter message :  Hello\n",
      "Enter Key :  3\n"
     ]
    },
    {
     "name": "stdout",
     "output_type": "stream",
     "text": [
      "Encrypted Message : Khoor\n",
      "Decrypted Message: Hello\n"
     ]
    }
   ],
   "source": [
    "msg=input(\"Enter message : \")\n",
    "key=int(input(\"Enter Key : \"))\n",
    "x=encrypt(msg,key)\n",
    "print(\"Encrypted Message : \"+x)\n",
    "y=decrypt(x,key)\n",
    "print(\"Decrypted Message: \"+y)"
   ]
  }
 ],
 "metadata": {
  "kernelspec": {
   "display_name": "Python 3 (ipykernel)",
   "language": "python",
   "name": "python3"
  },
  "language_info": {
   "codemirror_mode": {
    "name": "ipython",
    "version": 3
   },
   "file_extension": ".py",
   "mimetype": "text/x-python",
   "name": "python",
   "nbconvert_exporter": "python",
   "pygments_lexer": "ipython3",
   "version": "3.11.9"
  }
 },
 "nbformat": 4,
 "nbformat_minor": 5
}
