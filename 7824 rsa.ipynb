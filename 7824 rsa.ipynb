{
 "cells": [
  {
   "cell_type": "markdown",
   "id": "1d61d39e-dddd-4a25-b47d-c3d3937e0182",
   "metadata": {},
   "source": [
    "# Practical 9\n",
    "## To implement the RSA encryption-decryption algorithm."
   ]
  },
  {
   "cell_type": "code",
   "execution_count": 1,
   "id": "e059ea4e",
   "metadata": {},
   "outputs": [
    {
     "name": "stdin",
     "output_type": "stream",
     "text": [
      "Enter p:  53\n",
      "Enter q:  61\n",
      "Enter pt:  10\n"
     ]
    },
    {
     "name": "stdout",
     "output_type": "stream",
     "text": [
      "d - 1783,e - 7,n - 3233,phi - 3120\n",
      "Chyper :  331\n",
      "Original Text :  10\n"
     ]
    }
   ],
   "source": [
    "import math \n",
    "def gcds(a, b): # Finding Greatest Common Divisor\n",
    "    while b != 0:\n",
    "        a, b = b, a % b\n",
    "    return a\n",
    "def rsacalc(p,q): # RSA Calculation\n",
    "    n=p*q\n",
    "    fn=(p-1)*(q-1)\n",
    "    e=3\n",
    "    for i in range(2,fn):\n",
    "        if gcds(i,fn)==1:#math.gcd(i,fn)\n",
    "            e=i\n",
    "            break;\n",
    "    d=pow(e, -1, fn)\n",
    "    return d,e,n,fn\n",
    "def PU(e,n,pt): # Public Key\n",
    "    return (pt**e)%n\n",
    "def PR(d,n,c): # Private Key\n",
    "    return (c**d)%n\n",
    "\n",
    "p=int(input(\"Enter p: \"))\n",
    "q=int(input(\"Enter q: \"))\n",
    "pt=int(input(\"Enter pt: \"))\n",
    "d,e,n,phi=rsacalc(p,q)\n",
    "c=PU(e,n,pt)\n",
    "ot=PR(d,n,c)\n",
    "print(f\"d - {d},e - {e},n - {n},phi - {phi}\")\n",
    "print(\"Chyper : \",c)\n",
    "print(\"Original Text : \",ot)\n",
    "            "
   ]
  }
 ],
 "metadata": {
  "kernelspec": {
   "display_name": "Python 3 (ipykernel)",
   "language": "python",
   "name": "python3"
  },
  "language_info": {
   "codemirror_mode": {
    "name": "ipython",
    "version": 3
   },
   "file_extension": ".py",
   "mimetype": "text/x-python",
   "name": "python",
   "nbconvert_exporter": "python",
   "pygments_lexer": "ipython3",
   "version": "3.12.6"
  }
 },
 "nbformat": 4,
 "nbformat_minor": 5
}
