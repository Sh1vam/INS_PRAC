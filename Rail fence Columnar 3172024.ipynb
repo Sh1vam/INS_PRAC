{
 "cells": [
  {
   "cell_type": "markdown",
   "id": "203f9661-452a-40bf-90ae-2dd92a9587e3",
   "metadata": {},
   "source": [
    "# Practical 6\n",
    "## To implement Rail Fence and Columnar transposition cipher encryption-decryption."
   ]
  },
  {
   "cell_type": "markdown",
   "id": "2fbd83f6-0ae7-4707-9920-251c82bea44f",
   "metadata": {},
   "source": [
    "### Rail fence encryption-decryption"
   ]
  },
  {
   "cell_type": "code",
   "execution_count": 1,
   "id": "0fe54a85-57f4-4b32-ade3-6f51f5c6a9ac",
   "metadata": {},
   "outputs": [
    {
     "name": "stdin",
     "output_type": "stream",
     "text": [
      "Enter Text To Encrypt :  hellohowareyou\n"
     ]
    },
    {
     "name": "stdout",
     "output_type": "stream",
     "text": [
      "Encrypted Text hlooaeoelhwryu\n",
      "Decrypted Text hellohowareyou\n"
     ]
    }
   ],
   "source": [
    "def rfncencypt(text):\n",
    "    l1=[]\n",
    "    l2=[]\n",
    "    x=0;\n",
    "    for i in text:\n",
    "        if x%2==0:\n",
    "            l1.append(i)\n",
    "        else:\n",
    "            l2.append(i)\n",
    "        x+=1\n",
    "    t1=''.join(l1)\n",
    "    t2=\"\".join(l2)\n",
    "    return t1+t2\n",
    "text=input(\"Enter Text To Encrypt : \")\n",
    "x=rfncencypt(text)\n",
    "print(f\"Encrypted Text {x}\")\n",
    "for i in range (0,11):\n",
    "    x=rfncencypt(x)\n",
    "print(f\"Decrypted Text {x}\")#after encrypting same messagee 11 times we get original message as output"
   ]
  },
  {
   "cell_type": "markdown",
   "id": "fee939c1-f526-4f10-9f19-94778b184fcc",
   "metadata": {},
   "source": [
    "### Columnar Encryption"
   ]
  },
  {
   "cell_type": "code",
   "execution_count": 2,
   "id": "4f30183f-3389-42d3-b57f-fa74cb35125e",
   "metadata": {},
   "outputs": [],
   "source": [
    "import numpy as np\n",
    "def columnarencrypt(plaintext, k):\n",
    "    pt=plaintext\n",
    "    r=''\n",
    "    k = str(k)  # Convert the key to a string\n",
    "    sk=sorted(k)\n",
    "    ok=list(k)\n",
    "    i = len(k)\n",
    "    j = len(plaintext)\n",
    "    p= len(np.resize(plaintext,(i,i)).flatten())\n",
    "    z=p-j\n",
    "    newpt=pt+'x'*z\n",
    "    result = {x: [] for x in sk}  # Initialize an empty dictionary with key characters\n",
    "    for x in range(p):\n",
    "        result[sk[x % i]].append(newpt[x])  # Cycle through the key and append plaintext characters\n",
    "    for key in ok:\n",
    "        #print(f\"{key}: {result[key]}\")\n",
    "        r+=\"\".join(result[key])\n",
    "    #print(result)\n",
    "    return r"
   ]
  },
  {
   "cell_type": "markdown",
   "id": "d6f616ad-89bf-4dc2-8791-2417d71986e8",
   "metadata": {},
   "source": [
    "### Columnar decryption"
   ]
  },
  {
   "cell_type": "code",
   "execution_count": 3,
   "id": "52a6920e-558a-45e2-9f2d-df92a0772626",
   "metadata": {},
   "outputs": [],
   "source": [
    "def columnardecrypt(ct, k):\n",
    "    r=''\n",
    "    k = str(k)  # Convert the key to a string\n",
    "    sk=sorted(k) \n",
    "    ok=list(k)\n",
    "    i = len(k)\n",
    "    j = len(ct)\n",
    "    result = {x: [] for x in ok}  # Initialize an empty dictionary with key characters\n",
    "    for x in range(j):\n",
    "        result[ok[x % i]].append(ct[x])  \n",
    "    for key in sk:\n",
    "        #print(f\"{key}: {result[key]}\")\n",
    "        r+=\"\".join(result[key])\n",
    "    #print(result)\n",
    "    return r"
   ]
  },
  {
   "cell_type": "code",
   "execution_count": 4,
   "id": "25221bf1-e420-467e-b4a6-7621c4ac7cd3",
   "metadata": {},
   "outputs": [
    {
     "name": "stdin",
     "output_type": "stream",
     "text": [
      "Enter Text To Encrypt :  meetmeatfivepmbehindplab\n",
      "Enter Key for Encryption :  12345\n"
     ]
    },
    {
     "name": "stdout",
     "output_type": "stream",
     "text": [
      "mevepeaehletpiatfmnbmibdx\n",
      "meetmeatfivepmbehindplabx\n"
     ]
    }
   ],
   "source": [
    "text=input(\"Enter Text To Encrypt : \")\n",
    "key=input(\"Enter Key for Encryption : \")\n",
    "e=columnarencrypt(text, key)\n",
    "d=columnardecrypt(e,key)\n",
    "print(e)\n",
    "print(d)"
   ]
  }
 ],
 "metadata": {
  "kernelspec": {
   "display_name": "Python 3 (ipykernel)",
   "language": "python",
   "name": "python3"
  },
  "language_info": {
   "codemirror_mode": {
    "name": "ipython",
    "version": 3
   },
   "file_extension": ".py",
   "mimetype": "text/x-python",
   "name": "python",
   "nbconvert_exporter": "python",
   "pygments_lexer": "ipython3",
   "version": "3.11.9"
  }
 },
 "nbformat": 4,
 "nbformat_minor": 5
}
