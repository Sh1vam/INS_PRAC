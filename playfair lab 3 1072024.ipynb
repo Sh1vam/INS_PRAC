{
 "cells": [
  {
   "cell_type": "markdown",
   "id": "c407a7d5-57aa-43f9-9f00-a6c70ab08362",
   "metadata": {},
   "source": [
    "# Practical 3\n",
    "## To implement Playfair cipher encryption-decryption."
   ]
  },
  {
   "cell_type": "markdown",
   "id": "13c4dac2-6dde-4706-944d-4406711d9ea8",
   "metadata": {},
   "source": [
    "### Creating Playfair matrix of alphabets 5x5"
   ]
  },
  {
   "cell_type": "code",
   "execution_count": 1,
   "id": "35f8e055",
   "metadata": {},
   "outputs": [],
   "source": [
    "import string \n",
    "import numpy as np\n",
    "\n",
    "def creat_matrix(key):\n",
    "    k=[]\n",
    "    for i in key:\n",
    "        if i not in k:\n",
    "            if i=='i' or i=='j':\n",
    "                i='i'\n",
    "                if i not in k:\n",
    "                        k.append(i)\n",
    "            else:\n",
    "                k.append(i)\n",
    "    lowrs=string.ascii_lowercase\n",
    "    for i in lowrs:\n",
    "        if i not in k:\n",
    "            if i=='i' or i=='j':\n",
    "                i='i'\n",
    "                if i not in k:\n",
    "                    k.append(i)\n",
    "            else:\n",
    "                k.append(i)\n",
    "    matrix = np.array(k).reshape(5, 5)\n",
    "    return matrix"
   ]
  },
  {
   "cell_type": "markdown",
   "id": "1d63b991-0e7f-4cff-9677-74f2c0e9f865",
   "metadata": {},
   "source": [
    "### Find position of characters in matrix "
   ]
  },
  {
   "cell_type": "code",
   "execution_count": 2,
   "id": "0640f842",
   "metadata": {},
   "outputs": [],
   "source": [
    "def find_position(matrix, chars):\n",
    "    l=[]\n",
    "    for char in chars:\n",
    "        for i in range(5):\n",
    "            for j in range(5):\n",
    "                if matrix[i][j] == char:\n",
    "                   l.append(([i, j]))\n",
    "    return l"
   ]
  },
  {
   "cell_type": "markdown",
   "id": "d7824143-91cf-406b-9ac3-886931dff306",
   "metadata": {},
   "source": [
    "### Make the text suitable for implementing Playfair cipher"
   ]
  },
  {
   "cell_type": "code",
   "execution_count": 3,
   "id": "88931070",
   "metadata": {},
   "outputs": [],
   "source": [
    "def clean_text(tp):\n",
    "    ct=''\n",
    "    for i in tp:\n",
    "        if i[0]==i[1:2]:\n",
    "            ct+=i[0]+'x'+i[1:2]\n",
    "        else:\n",
    "            ct+=i[0]+i[1:2]\n",
    "    if len(ct)%2!=0:\n",
    "        ct+='x'*(len(ct)%2)\n",
    "    return ct"
   ]
  },
  {
   "cell_type": "markdown",
   "id": "f2f1b0e7-4de0-4c08-9fea-06168ab6c418",
   "metadata": {},
   "source": [
    "### Take a pair of alphabets and find its position in matrix"
   ]
  },
  {
   "cell_type": "code",
   "execution_count": 4,
   "id": "6db63627",
   "metadata": {},
   "outputs": [],
   "source": [
    "def pos(pt):\n",
    "    p=[]\n",
    "    for i in pt:\n",
    "        p1=find_position(matrix, i[0])\n",
    "        p2=find_position(matrix, i[1:2])\n",
    "        p.append(p1+p2)\n",
    "    return p"
   ]
  },
  {
   "cell_type": "markdown",
   "id": "5c1acadb-c04f-4733-aadf-af90d695d598",
   "metadata": {},
   "source": [
    "### Playfair Encryption"
   ]
  },
  {
   "cell_type": "code",
   "execution_count": 25,
   "id": "75578fc3",
   "metadata": {},
   "outputs": [],
   "source": [
    "def extract_letters(matrix, coordinates):\n",
    "    results = []\n",
    "    for coord_pair in coordinates:\n",
    "        if coord_pair[0][0]==coord_pair[1][0]:\n",
    "            coord_pair[0][0]=(coord_pair[0][0]+1)%5\n",
    "            coord_pair[1][0]=(coord_pair[1][0]+1)%5\n",
    "        elif coord_pair[0][1]==coord_pair[1][1]:\n",
    "            coord_pair[1][1]=(coord_pair[1][1]+1)%5\n",
    "            coord_pair[0][1]=(coord_pair[0][1]+1)%5\n",
    "        else:\n",
    "           coord_pair[0][1], coord_pair[1][1] = coord_pair[1][1], coord_pair[0][1]\n",
    "        letters = []\n",
    "        for coord in coord_pair:\n",
    "            row, col = coord\n",
    "            letters.append(matrix[row][col])\n",
    "        results.append(''.join(letters))\n",
    "    return results"
   ]
  },
  {
   "cell_type": "markdown",
   "id": "76076419-a998-4c55-a54f-2de3d5877661",
   "metadata": {},
   "source": [
    "### Playfair Decryption"
   ]
  },
  {
   "cell_type": "code",
   "execution_count": 33,
   "id": "268042b2-fcc9-431d-a52b-e4f5ff1ba1e6",
   "metadata": {},
   "outputs": [],
   "source": [
    "def deextract_letters(matrix, coordinates):\n",
    "    results = []\n",
    "    for coord_pair in coordinates:\n",
    "        if coord_pair[0][0]==coord_pair[1][0]:\n",
    "            coord_pair[0][0]=(coord_pair[0][0]-1)%5\n",
    "            coord_pair[1][0]=(coord_pair[1][0]-1)%5\n",
    "        elif coord_pair[0][1]==coord_pair[1][1]:\n",
    "            coord_pair[1][1]=(coord_pair[1][1]-1)%5\n",
    "            coord_pair[0][1]=(coord_pair[0][1]-1)%5\n",
    "        else:\n",
    "           coord_pair[0][1], coord_pair[1][1] = coord_pair[1][1], coord_pair[0][1]\n",
    "        letters = []\n",
    "        for coord in coord_pair:\n",
    "            row, col = coord\n",
    "            letters.append(matrix[row][col])\n",
    "        results.append(''.join(letters))\n",
    "    return results"
   ]
  },
  {
   "cell_type": "code",
   "execution_count": 37,
   "id": "7687fe96",
   "metadata": {},
   "outputs": [
    {
     "name": "stdin",
     "output_type": "stream",
     "text": [
      "Enter Key :  Hello\n",
      "Enter text :  Shivam\n"
     ]
    },
    {
     "name": "stdout",
     "output_type": "stream",
     "text": [
      "[['h' 'e' 'l' 'o' 'a']\n",
      " ['b' 'c' 'd' 'f' 'g']\n",
      " ['i' 'k' 'm' 'n' 'p']\n",
      " ['q' 'r' 's' 't' 'u']\n",
      " ['v' 'w' 'x' 'y' 'z']]\n",
      "['sh', 'iv', 'am']\n",
      "[[[3, 2], [0, 0]], [[2, 0], [4, 0]], [[0, 4], [2, 2]]]\n",
      "['ql', 'kw', 'lp']\n",
      "[[[3, 0], [0, 2]], [[2, 1], [4, 1]], [[0, 2], [2, 4]]]\n",
      "Encripted Text : qlkwlp\n",
      "Decripted Text : shivam\n"
     ]
    }
   ],
   "source": [
    "key=input(\"Enter Key : \").lower()\n",
    "key=key.replace('j','i')\n",
    "matrix=creat_matrix(key)\n",
    "text= input(\"Enter text : \").lower()\n",
    "text=text.replace('j','i')\n",
    "tp=[text[i:i+2] for i in range(0,len(text),2) if text[i:i+2] != ' ' or text[i:i+2] != '' ]\n",
    "st=clean_text(tp)\n",
    "pt=[st[i:i+2] for i in range(0,len(st),2) if st[i:i+2] != ' ' or st[i:i+2] != '' ]\n",
    "ps=pos(pt)\n",
    "print(matrix)\n",
    "print(pt)\n",
    "print(ps)\n",
    "el=extract_letters(matrix, ps)\n",
    "ps=pos(el)\n",
    "print(el)\n",
    "print(ps)\n",
    "print(\"Encripted Text : \"+ \"\".join(el))\n",
    "dl=deextract_letters(matrix, ps)\n",
    "print(\"Decripted Text : \"+ \"\".join(dl))"
   ]
  }
 ],
 "metadata": {
  "kernelspec": {
   "display_name": "Python 3 (ipykernel)",
   "language": "python",
   "name": "python3"
  },
  "language_info": {
   "codemirror_mode": {
    "name": "ipython",
    "version": 3
   },
   "file_extension": ".py",
   "mimetype": "text/x-python",
   "name": "python",
   "nbconvert_exporter": "python",
   "pygments_lexer": "ipython3",
   "version": "3.11.9"
  }
 },
 "nbformat": 4,
 "nbformat_minor": 5
}
