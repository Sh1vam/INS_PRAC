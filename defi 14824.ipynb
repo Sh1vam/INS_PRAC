{
 "cells": [
  {
   "cell_type": "markdown",
   "id": "6fe691b0",
   "metadata": {},
   "source": [
    "# Practical 8"
   ]
  },
  {
   "cell_type": "markdown",
   "id": "7bd4b9db",
   "metadata": {},
   "source": [
    "## To implement Diffi-Hellman Key Exchange method."
   ]
  },
  {
   "cell_type": "code",
   "execution_count": 1,
   "id": "54cf1c83",
   "metadata": {},
   "outputs": [
    {
     "name": "stdout",
     "output_type": "stream",
     "text": [
      "Enter p: 29\n",
      "Enter g: 2\n",
      "Enter a: 5\n",
      "Enter b: 7\n",
      "Key = 12\n"
     ]
    }
   ],
   "source": [
    "def diffihellman(p,g,a,b):\n",
    "    A=(g**a)%p\n",
    "    B=(g**b)%p\n",
    "    if (B**a)%p == (A**b)%p:\n",
    "        k=(B**a)%p\n",
    "    return k \n",
    "p = int(input(\"Enter p: \"))\n",
    "g = int(input(\"Enter g: \"))\n",
    "a = int(input(\"Enter a: \"))\n",
    "b = int(input(\"Enter b: \"))\n",
    "k = diffihellman(p,g,a,b)\n",
    "print(f'Key = {k}')"
   ]
  }
 ],
 "metadata": {
  "kernelspec": {
   "display_name": "Python 3 (ipykernel)",
   "language": "python",
   "name": "python3"
  },
  "language_info": {
   "codemirror_mode": {
    "name": "ipython",
    "version": 3
   },
   "file_extension": ".py",
   "mimetype": "text/x-python",
   "name": "python",
   "nbconvert_exporter": "python",
   "pygments_lexer": "ipython3",
   "version": "3.9.12"
  }
 },
 "nbformat": 4,
 "nbformat_minor": 5
}
