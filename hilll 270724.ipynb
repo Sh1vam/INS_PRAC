{
 "cells": [
  {
   "cell_type": "markdown",
   "id": "d7d93f6c-981b-48c4-afe0-6b3ee2d8bcec",
   "metadata": {},
   "source": [
    "# Practical 5\n",
    "## To implement Hill cipher encryption-decryption."
   ]
  },
  {
   "cell_type": "code",
   "execution_count": 1,
   "id": "054985cb-43f8-4266-a18a-1d545c881cbd",
   "metadata": {},
   "outputs": [],
   "source": [
    "import numpy as np"
   ]
  },
  {
   "cell_type": "markdown",
   "id": "da692e73-4fc3-49a9-a3c9-70c03d86c765",
   "metadata": {},
   "source": [
    "### Converts a string key to a 2x2 matrix"
   ]
  },
  {
   "cell_type": "code",
   "execution_count": 2,
   "id": "f5c23cd5-15e6-48b5-a26b-38c683fbc471",
   "metadata": {},
   "outputs": [],
   "source": [
    "def string_to_matrix(key):\n",
    "    key_int = [ord(c) - 65 for c in key.upper()]\n",
    "    key_matrix = np.array(key_int).reshape(2, 2)\n",
    "    return key_matrix"
   ]
  },
  {
   "cell_type": "markdown",
   "id": "061fa533-b8cc-4891-934e-ffa4ebb6f49b",
   "metadata": {},
   "source": [
    "### Hill cipher encryption"
   ]
  },
  {
   "cell_type": "code",
   "execution_count": 3,
   "id": "88db499c-cd0f-4d29-a8bc-917c36ced4fc",
   "metadata": {},
   "outputs": [],
   "source": [
    "def hill_cipher_encrypt(plain_text, key_matrix):\n",
    "    # Convert the plain text to a list of integers (A=0, B=1, ..., Z=25)\n",
    "    plain_text_int = [ord(c) - 65 for c in plain_text.upper()]\n",
    "    # Split the plain text into blocks of 2 characters\n",
    "    blocks = [plain_text_int[i:i+2] for i in range(0, len(plain_text_int), 2)]\n",
    "    # Encrypt each block using the key matrix\n",
    "    encrypted_blocks = []\n",
    "    for block in blocks:\n",
    "        block_array = np.array(block)\n",
    "        encrypted_block = np.dot(key_matrix, block_array) % 26\n",
    "        encrypted_blocks.append(encrypted_block)\n",
    "    # Convert the encrypted blocks back to a list of integers\n",
    "    encrypted_int = [int(c) for block in encrypted_blocks for c in block]\n",
    "    # Convert the encrypted integers back to characters (A=0, B=1, ..., Z=25)\n",
    "    encrypted_text = ''.join([chr(c + 65) for c in encrypted_int])\n",
    "    return encrypted_text"
   ]
  },
  {
   "cell_type": "markdown",
   "id": "1e3eadbd-fac3-4099-a2d9-38472d8b2217",
   "metadata": {},
   "source": [
    "### Hill cipher decryption"
   ]
  },
  {
   "cell_type": "code",
   "execution_count": 4,
   "id": "41e928f7-90aa-4639-a8f6-82b03d6aff9a",
   "metadata": {},
   "outputs": [],
   "source": [
    "def hill_cipher_decrypt(encrypted_text, key_matrix):\n",
    "    # Calculate the inverse of the key matrix modulo 26\n",
    "    det = int(np.round(np.linalg.det(key_matrix))) % 26\n",
    "    inv_det = pow(det, -1, 26)\n",
    "    inv_key_matrix = (inv_det*np.array([[key_matrix[1,1],-key_matrix[0, 1]],[-key_matrix[1,0],key_matrix[0,0]]]))%26\n",
    "    # Decrypt the encrypted text using the inverse key matrix\n",
    "    decrypted_text = hill_cipher_encrypt(encrypted_text, inv_key_matrix)\n",
    "    return decrypted_text"
   ]
  },
  {
   "cell_type": "code",
   "execution_count": 5,
   "id": "bee854f6-91e0-41c1-9ad9-7e616a0442e6",
   "metadata": {},
   "outputs": [
    {
     "name": "stdin",
     "output_type": "stream",
     "text": [
      "Enter Key :  hill\n",
      "Enter Plain text :  attack\n"
     ]
    },
    {
     "name": "stdout",
     "output_type": "stream",
     "text": [
      "Encrypted text: WBDBQC\n",
      "Decrypted text: ATTACK\n"
     ]
    }
   ],
   "source": [
    "key = input(\"Enter Key : \").upper()\n",
    "key_matrix = string_to_matrix(key)\n",
    "plain_text = input(\"Enter Plain text : \").upper()\n",
    "encrypted_text = hill_cipher_encrypt(plain_text, key_matrix)\n",
    "print(\"Encrypted text:\", encrypted_text)\n",
    "decrypted_text = hill_cipher_decrypt(encrypted_text, key_matrix)\n",
    "print(\"Decrypted text:\", decrypted_text)"
   ]
  }
 ],
 "metadata": {
  "kernelspec": {
   "display_name": "Python 3 (ipykernel)",
   "language": "python",
   "name": "python3"
  },
  "language_info": {
   "codemirror_mode": {
    "name": "ipython",
    "version": 3
   },
   "file_extension": ".py",
   "mimetype": "text/x-python",
   "name": "python",
   "nbconvert_exporter": "python",
   "pygments_lexer": "ipython3",
   "version": "3.11.9"
  }
 },
 "nbformat": 4,
 "nbformat_minor": 5
}
