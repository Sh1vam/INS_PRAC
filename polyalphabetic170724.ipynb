{
 "cells": [
  {
   "cell_type": "markdown",
   "id": "0eb5a518-ab8a-4065-83da-cc1441d2f976",
   "metadata": {},
   "source": [
    "# Practical 4\n",
    "## To implement Polyalphabetic cipher encryption-decryption."
   ]
  },
  {
   "cell_type": "markdown",
   "id": "ab1ee61e-9379-4c3c-a1e0-e899f710867e",
   "metadata": {},
   "source": [
    "### Create the Vigenère Square"
   ]
  },
  {
   "cell_type": "code",
   "execution_count": 1,
   "id": "a4ed5ba8",
   "metadata": {},
   "outputs": [
    {
     "name": "stdout",
     "output_type": "stream",
     "text": [
      "A  B  C  D  E  F  G  H  I  J  K  L  M  N  O  P  Q  R  S  T  U  V  W  X  Y  Z\n",
      "B  C  D  E  F  G  H  I  J  K  L  M  N  O  P  Q  R  S  T  U  V  W  X  Y  Z  A\n",
      "C  D  E  F  G  H  I  J  K  L  M  N  O  P  Q  R  S  T  U  V  W  X  Y  Z  A  B\n",
      "D  E  F  G  H  I  J  K  L  M  N  O  P  Q  R  S  T  U  V  W  X  Y  Z  A  B  C\n",
      "E  F  G  H  I  J  K  L  M  N  O  P  Q  R  S  T  U  V  W  X  Y  Z  A  B  C  D\n",
      "F  G  H  I  J  K  L  M  N  O  P  Q  R  S  T  U  V  W  X  Y  Z  A  B  C  D  E\n",
      "G  H  I  J  K  L  M  N  O  P  Q  R  S  T  U  V  W  X  Y  Z  A  B  C  D  E  F\n",
      "H  I  J  K  L  M  N  O  P  Q  R  S  T  U  V  W  X  Y  Z  A  B  C  D  E  F  G\n",
      "I  J  K  L  M  N  O  P  Q  R  S  T  U  V  W  X  Y  Z  A  B  C  D  E  F  G  H\n",
      "J  K  L  M  N  O  P  Q  R  S  T  U  V  W  X  Y  Z  A  B  C  D  E  F  G  H  I\n",
      "K  L  M  N  O  P  Q  R  S  T  U  V  W  X  Y  Z  A  B  C  D  E  F  G  H  I  J\n",
      "L  M  N  O  P  Q  R  S  T  U  V  W  X  Y  Z  A  B  C  D  E  F  G  H  I  J  K\n",
      "M  N  O  P  Q  R  S  T  U  V  W  X  Y  Z  A  B  C  D  E  F  G  H  I  J  K  L\n",
      "N  O  P  Q  R  S  T  U  V  W  X  Y  Z  A  B  C  D  E  F  G  H  I  J  K  L  M\n",
      "O  P  Q  R  S  T  U  V  W  X  Y  Z  A  B  C  D  E  F  G  H  I  J  K  L  M  N\n",
      "P  Q  R  S  T  U  V  W  X  Y  Z  A  B  C  D  E  F  G  H  I  J  K  L  M  N  O\n",
      "Q  R  S  T  U  V  W  X  Y  Z  A  B  C  D  E  F  G  H  I  J  K  L  M  N  O  P\n",
      "R  S  T  U  V  W  X  Y  Z  A  B  C  D  E  F  G  H  I  J  K  L  M  N  O  P  Q\n",
      "S  T  U  V  W  X  Y  Z  A  B  C  D  E  F  G  H  I  J  K  L  M  N  O  P  Q  R\n",
      "T  U  V  W  X  Y  Z  A  B  C  D  E  F  G  H  I  J  K  L  M  N  O  P  Q  R  S\n",
      "U  V  W  X  Y  Z  A  B  C  D  E  F  G  H  I  J  K  L  M  N  O  P  Q  R  S  T\n",
      "V  W  X  Y  Z  A  B  C  D  E  F  G  H  I  J  K  L  M  N  O  P  Q  R  S  T  U\n",
      "W  X  Y  Z  A  B  C  D  E  F  G  H  I  J  K  L  M  N  O  P  Q  R  S  T  U  V\n",
      "X  Y  Z  A  B  C  D  E  F  G  H  I  J  K  L  M  N  O  P  Q  R  S  T  U  V  W\n",
      "Y  Z  A  B  C  D  E  F  G  H  I  J  K  L  M  N  O  P  Q  R  S  T  U  V  W  X\n",
      "Z  A  B  C  D  E  F  G  H  I  J  K  L  M  N  O  P  Q  R  S  T  U  V  W  X  Y\n"
     ]
    }
   ],
   "source": [
    "def vigenere_square():\n",
    "  \"\"\"\n",
    "  Generates the Vigenère Square as a 26x26 list of lists.\n",
    "  \"\"\"\n",
    "  alphabet = \"ABCDEFGHIJKLMNOPQRSTUVWXYZ\"\n",
    "  square = []\n",
    "  for i in range(26):\n",
    "    row = alphabet[i:] + alphabet[:i]\n",
    "    square.append(list(row))\n",
    "  return square\n",
    "\n",
    "# Print the Vigenère Square\n",
    "def print_square(square):\n",
    "  \"\"\"\n",
    "  Prints the Vigenère Square in a readable format.\n",
    "  \"\"\"\n",
    "  for row in square:\n",
    "    print(\"  \".join(row))\n",
    "\n",
    "# Generate and print the square\n",
    "square = vigenere_square()\n",
    "print_square(square)\n"
   ]
  },
  {
   "cell_type": "markdown",
   "id": "b2b3270e-1d10-4545-82a8-4101ce6f3382",
   "metadata": {},
   "source": [
    "### Vigenère encryption-decryption"
   ]
  },
  {
   "cell_type": "code",
   "execution_count": 14,
   "id": "6c097751",
   "metadata": {},
   "outputs": [],
   "source": [
    "def vigener_encypt(k,p):\n",
    "    e_t=''\n",
    "    for i in range(len(p)):\n",
    "        p_c=ord(p[i])-65\n",
    "        k_c=ord(k[i%len(k)])-65\n",
    "        e_c=(p_c+k_c)%26\n",
    "        e_t+=chr(e_c+65)\n",
    "    return e_t\n",
    "def vigener_decypt(k,c):\n",
    "    e_t=''\n",
    "    for i in range(len(c)):\n",
    "        p_c=ord(c[i])-65\n",
    "        k_c=ord(k[i%len(k)])-65\n",
    "        e_c=(p_c-k_c)%26\n",
    "        e_t+=chr(e_c+65)\n",
    "    return e_t"
   ]
  },
  {
   "cell_type": "code",
   "execution_count": 15,
   "id": "b75a079b",
   "metadata": {},
   "outputs": [
    {
     "name": "stdout",
     "output_type": "stream",
     "text": [
      "Enter Plain Text : efg\n",
      "Enter Key : abc\n",
      "EGI\n",
      "EFG\n"
     ]
    }
   ],
   "source": [
    "p=input(\"Enter Plain Text : \").upper()\n",
    "k=input(\"Enter Key : \").upper()\n",
    "c=vigener_encypt(k,p)\n",
    "d=vigener_decypt(k,c)\n",
    "print(c)\n",
    "print(d)"
   ]
  },
  {
   "cell_type": "markdown",
   "id": "61476103-992e-4eb1-9a0f-e2c54d060b23",
   "metadata": {},
   "source": [
    "### Vernam encryption-decryption"
   ]
  },
  {
   "cell_type": "code",
   "execution_count": 98,
   "id": "8d377730",
   "metadata": {},
   "outputs": [],
   "source": [
    "def vernam_encypt_decrypt(p,k):\n",
    "    e_t=''\n",
    "    for i in range(len(p)):\n",
    "        p_c=ord(p[i])-65\n",
    "        k_c=ord(k[i%len(k)])-65\n",
    "        e_c=(p_c^k_c)%26\n",
    "        e_t+=chr(e_c+65)\n",
    "    return e_t  "
   ]
  },
  {
   "cell_type": "code",
   "execution_count": 99,
   "id": "648f034d",
   "metadata": {},
   "outputs": [
    {
     "name": "stdout",
     "output_type": "stream",
     "text": [
      "Enter Plain Text : coh\n",
      "Enter Key : son\n",
      "QAK\n",
      "COH\n"
     ]
    }
   ],
   "source": [
    "p=input(\"Enter Plain Text : \").upper()\n",
    "k=input(\"Enter Key : \").upper()\n",
    "c=vernam_encypt_decrypt(p,k)\n",
    "d=vernam_encypt_decrypt(c.upper(),k)\n",
    "print(c)\n",
    "print(d)"
   ]
  }
 ],
 "metadata": {
  "kernelspec": {
   "display_name": "Python 3 (ipykernel)",
   "language": "python",
   "name": "python3"
  },
  "language_info": {
   "codemirror_mode": {
    "name": "ipython",
    "version": 3
   },
   "file_extension": ".py",
   "mimetype": "text/x-python",
   "name": "python",
   "nbconvert_exporter": "python",
   "pygments_lexer": "ipython3",
   "version": "3.11.9"
  }
 },
 "nbformat": 4,
 "nbformat_minor": 5
}
