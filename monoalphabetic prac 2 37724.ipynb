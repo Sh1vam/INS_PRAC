{
 "cells": [
  {
   "cell_type": "markdown",
   "id": "c3e98337",
   "metadata": {},
   "source": [
    "# Practical 2\n",
    "## To implement Monoalphabetic cipher encryption-decryption."
   ]
  },
  {
   "cell_type": "code",
   "execution_count": 1,
   "id": "f84f33af",
   "metadata": {},
   "outputs": [],
   "source": [
    "import random\n",
    "import string"
   ]
  },
  {
   "cell_type": "markdown",
   "id": "f27b6705-9557-4572-bbdf-ebc546d1610a",
   "metadata": {},
   "source": [
    "### Making list of uppercase and lowercase alphabets in ascending order"
   ]
  },
  {
   "cell_type": "code",
   "execution_count": 2,
   "id": "cad53ce5",
   "metadata": {},
   "outputs": [],
   "source": [
    "orig_lower=list(string.ascii_lowercase)\n",
    "orig_upper=list(string.ascii_uppercase)"
   ]
  },
  {
   "cell_type": "code",
   "execution_count": 3,
   "id": "8a78e56a",
   "metadata": {},
   "outputs": [],
   "source": [
    "orig=orig_lower+orig_upper+[' ']"
   ]
  },
  {
   "cell_type": "markdown",
   "id": "8e13aae2-1d66-43e9-aa5e-658881fe3368",
   "metadata": {},
   "source": [
    "### Making shuffled list of uppercase and lowercase alphabets"
   ]
  },
  {
   "cell_type": "code",
   "execution_count": 4,
   "id": "4359ed75",
   "metadata": {},
   "outputs": [],
   "source": [
    "random.shuffle(orig_lower)\n",
    "random.shuffle(orig_upper)"
   ]
  },
  {
   "cell_type": "code",
   "execution_count": 5,
   "id": "55cb07a9",
   "metadata": {},
   "outputs": [],
   "source": [
    "shuffel=orig_lower+orig_upper+[' ']"
   ]
  },
  {
   "cell_type": "markdown",
   "id": "b0966c7f-aeab-4c8b-82fb-b205df03b16d",
   "metadata": {},
   "source": [
    "### Mapping corresponding case alphabets in order to make monoalphabetic dictionary"
   ]
  },
  {
   "cell_type": "code",
   "execution_count": 6,
   "id": "66131ec2",
   "metadata": {},
   "outputs": [],
   "source": [
    "zipped=dict(zip(orig,shuffel))"
   ]
  },
  {
   "cell_type": "code",
   "execution_count": 7,
   "id": "f5dc6f0a",
   "metadata": {},
   "outputs": [
    {
     "data": {
      "text/plain": [
       "dict_items([('a', 'w'), ('b', 'j'), ('c', 'q'), ('d', 'r'), ('e', 't'), ('f', 'd'), ('g', 'k'), ('h', 'g'), ('i', 'y'), ('j', 'i'), ('k', 'b'), ('l', 'p'), ('m', 'x'), ('n', 'v'), ('o', 'f'), ('p', 'c'), ('q', 'm'), ('r', 'h'), ('s', 'u'), ('t', 'a'), ('u', 'n'), ('v', 'z'), ('w', 'l'), ('x', 's'), ('y', 'e'), ('z', 'o'), ('A', 'M'), ('B', 'W'), ('C', 'F'), ('D', 'N'), ('E', 'J'), ('F', 'L'), ('G', 'H'), ('H', 'U'), ('I', 'C'), ('J', 'T'), ('K', 'P'), ('L', 'Z'), ('M', 'E'), ('N', 'D'), ('O', 'S'), ('P', 'Y'), ('Q', 'O'), ('R', 'V'), ('S', 'X'), ('T', 'Q'), ('U', 'G'), ('V', 'K'), ('W', 'R'), ('X', 'B'), ('Y', 'I'), ('Z', 'A'), (' ', ' ')])"
      ]
     },
     "execution_count": 7,
     "metadata": {},
     "output_type": "execute_result"
    }
   ],
   "source": [
    "zipped.items()"
   ]
  },
  {
   "cell_type": "markdown",
   "id": "19c5dd48-f3f1-4fd9-b76c-74c7b44ac742",
   "metadata": {},
   "source": [
    "### Monoalphabetic encryption"
   ]
  },
  {
   "cell_type": "code",
   "execution_count": 8,
   "id": "b3c8d308",
   "metadata": {},
   "outputs": [],
   "source": [
    "def encrypt(text):\n",
    "    y=''\n",
    "    for x in text:\n",
    "        y+=zipped[x]\n",
    "    return y"
   ]
  },
  {
   "cell_type": "markdown",
   "id": "cb66b8ad-0e7c-42c3-9634-7474b78601ff",
   "metadata": {},
   "source": [
    "### Monoalphabetic decryption"
   ]
  },
  {
   "cell_type": "code",
   "execution_count": 9,
   "id": "666ffebb",
   "metadata": {},
   "outputs": [],
   "source": [
    "def decrypt(text):\n",
    "    x=''\n",
    "    for y in text:\n",
    "        for key, value in zipped.items():\n",
    "            if y == value:\n",
    "                x+=key\n",
    "    return x"
   ]
  },
  {
   "cell_type": "code",
   "execution_count": 10,
   "id": "a8378648",
   "metadata": {},
   "outputs": [
    {
     "name": "stdin",
     "output_type": "stream",
     "text": [
      "Enter String :  Aa Bb cC\n"
     ]
    },
    {
     "name": "stdout",
     "output_type": "stream",
     "text": [
      "Original String : Aa Bb cC\n",
      "Encrypted String : Mw Wj qF\n",
      "Decrypted String : Aa Bb cC\n"
     ]
    }
   ],
   "source": [
    "text=input(\"Enter String : \")\n",
    "encrypted=encrypt(text)\n",
    "decrypted=decrypt(encrypted)\n",
    "print(f\"Original String : {text}\")\n",
    "print(f\"Encrypted String : {encrypted}\")\n",
    "print(f\"Decrypted String : {decrypted}\")"
   ]
  }
 ],
 "metadata": {
  "kernelspec": {
   "display_name": "Python 3 (ipykernel)",
   "language": "python",
   "name": "python3"
  },
  "language_info": {
   "codemirror_mode": {
    "name": "ipython",
    "version": 3
   },
   "file_extension": ".py",
   "mimetype": "text/x-python",
   "name": "python",
   "nbconvert_exporter": "python",
   "pygments_lexer": "ipython3",
   "version": "3.11.9"
  }
 },
 "nbformat": 4,
 "nbformat_minor": 5
}
