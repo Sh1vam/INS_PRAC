{
 "cells": [
  {
   "cell_type": "markdown",
   "id": "584232d9-9886-40ea-b46e-3ab313f687e7",
   "metadata": {},
   "source": [
    "# Practical 7\n",
    "## To implement Simplified Data Encryption Standard."
   ]
  },
  {
   "cell_type": "markdown",
   "id": "d192613d-0d9d-4467-acb8-0d86cb4fdf41",
   "metadata": {},
   "source": [
    "### Given S-BOXES"
   ]
  },
  {
   "cell_type": "code",
   "execution_count": 1,
   "id": "14fecef9-2c77-4d63-8893-17244a0dc2be",
   "metadata": {},
   "outputs": [],
   "source": [
    "S0=[[1, 0, 3, 2], [3, 2, 1, 0], [0, 2, 1, 3], [3, 1, 3, 2]]\n",
    "S1=[[0, 1, 2, 3], [2, 0, 1, 3], [3, 0, 1, 0], [2, 1, 0, 3]]"
   ]
  },
  {
   "cell_type": "markdown",
   "id": "2f2e2f81-cdd6-49b4-9897-5b6ec05a936c",
   "metadata": {},
   "source": [
    "### Finding Values of Row & Column in S-Boxes"
   ]
  },
  {
   "cell_type": "code",
   "execution_count": 2,
   "id": "f9960234-4a29-42a3-aac1-b312b9016ed3",
   "metadata": {},
   "outputs": [],
   "source": [
    "def r_c(s):\n",
    "    row=int(\"\".join([str(s[0]),str(s[-1])]),2)\n",
    "    col=int(\"\".join(str(i) for i in s[1:-1]),2)\n",
    "    return row,col"
   ]
  },
  {
   "cell_type": "markdown",
   "id": "1ca423f7-8951-4c77-b544-a5676d6dddfa",
   "metadata": {},
   "source": [
    "### Splitting any list in two equal halves"
   ]
  },
  {
   "cell_type": "code",
   "execution_count": 3,
   "id": "2bfe9b2e-24be-4dee-9b03-54ba33852d3a",
   "metadata": {},
   "outputs": [],
   "source": [
    "def divide(x):\n",
    "    if len(x)%2!=0:\n",
    "        raise ValueError(\"length of list must be an even number\")\n",
    "    l=len(x)//2\n",
    "    a,b=x[0:l],x[l:]\n",
    "    return a,b"
   ]
  },
  {
   "cell_type": "markdown",
   "id": "bc1bee0c-dcc5-4b05-bb6c-30e0840e263f",
   "metadata": {},
   "source": [
    "### Doing XOR of any two numbers"
   ]
  },
  {
   "cell_type": "code",
   "execution_count": 4,
   "id": "c8704b06-e069-4269-be82-d980ee2794cb",
   "metadata": {},
   "outputs": [],
   "source": [
    "def XOR(a,b):\n",
    "    i=max(len(a),len(b))\n",
    "    return [ int(a[j])^int(b[j]) for j in range (i)]"
   ]
  },
  {
   "cell_type": "markdown",
   "id": "a5ee2e52-1ab5-46a2-ac6d-94a11af0cb55",
   "metadata": {},
   "source": [
    "### Finding P4"
   ]
  },
  {
   "cell_type": "code",
   "execution_count": 5,
   "id": "4c03b39b-791a-4cd8-a8f3-f1915986b7d7",
   "metadata": {},
   "outputs": [],
   "source": [
    "def P4(p4,lst):\n",
    "    if len(p4) != 4:\n",
    "        raise ValueError(\"Enter P4 of 4 bits\")\n",
    "    return [lst[i] for i in p4]"
   ]
  },
  {
   "cell_type": "markdown",
   "id": "9f6ac9d9-5866-4c71-8f23-96f0499a7e53",
   "metadata": {},
   "source": [
    "### Finding P8"
   ]
  },
  {
   "cell_type": "code",
   "execution_count": 6,
   "id": "e409673e-b67e-4c91-8348-af07d1d02ac3",
   "metadata": {},
   "outputs": [],
   "source": [
    "def P8(p8,key):\n",
    "    if len(p8) != 8:\n",
    "        raise ValueError(\"Enter P8 of 8 bits\")\n",
    "    return [key[k] for k in p8]"
   ]
  },
  {
   "cell_type": "markdown",
   "id": "0c22b8e3-ef4a-4758-a954-2af90b99bdc6",
   "metadata": {},
   "source": [
    "### Finding P10"
   ]
  },
  {
   "cell_type": "code",
   "execution_count": 7,
   "id": "017f4fb4-352e-4e49-9e46-6a19e45eeadb",
   "metadata": {},
   "outputs": [],
   "source": [
    "def P10(p10,key):\n",
    "    if len(key) != 10 or len(p10) != 10:\n",
    "        raise ValueError(\"Enter Key & P10 of 10 bits\")\n",
    "    return [key[k] for k in p10]"
   ]
  },
  {
   "cell_type": "markdown",
   "id": "4ef2ed0f-9bbf-4efe-a73b-4d4dd25c8712",
   "metadata": {},
   "source": [
    "### Doing Left Circular Shift Operation"
   ]
  },
  {
   "cell_type": "code",
   "execution_count": 8,
   "id": "461c2f95-5fe9-40ed-85f3-1861f2a942de",
   "metadata": {},
   "outputs": [],
   "source": [
    "def shift(k,bits):\n",
    "    i=len(k)\n",
    "    return [k[j%i] for j in range (bits,i+bits)]  "
   ]
  },
  {
   "cell_type": "markdown",
   "id": "92201f6e-2bba-4b24-b77b-11abd62fc53c",
   "metadata": {},
   "source": [
    "### Keys (K1 & K2) Generation"
   ]
  },
  {
   "cell_type": "code",
   "execution_count": 9,
   "id": "97de9b32-00c5-49d7-a9a8-8e470b6e53c5",
   "metadata": {},
   "outputs": [],
   "source": [
    "def keygen(p10,p8,key):\n",
    "    k1=[]\n",
    "    k2=[]\n",
    "    key=P10(p10,key)\n",
    "    lk,rk=divide(key)\n",
    "    k1=shift(lk,1)#leftshift\n",
    "    k1+=shift(rk,1)#leftshift\n",
    "    key=k1\n",
    "    k1=P8(p8,k1)\n",
    "    lk,rk=divide(key)\n",
    "    k2=shift(lk,2)#leftshift\n",
    "    k2+=shift(rk,2)#leftshift\n",
    "    k2=P8(p8,k2)\n",
    "    return [k1,k2]"
   ]
  },
  {
   "cell_type": "markdown",
   "id": "82d9cd34-e705-46fa-905c-901a3f32ad3a",
   "metadata": {},
   "source": [
    "### Doing Permutation of Pain Text"
   ]
  },
  {
   "cell_type": "code",
   "execution_count": 10,
   "id": "3aa47ca9-ee82-4c58-8cb6-dfa7316851f0",
   "metadata": {},
   "outputs": [],
   "source": [
    "def PtIp(pt,ip):\n",
    "    if len(pt) != 8 or len(ip) != 8:\n",
    "        raise ValueError(\"Enter PT of 8 bits & IP of 8 bits\")\n",
    "    return [pt[i] for i in ip]"
   ]
  },
  {
   "cell_type": "markdown",
   "id": "a9fdf883-56d1-4c1b-a996-8e167a8161b3",
   "metadata": {},
   "source": [
    "### Finding IP Inverse Indices"
   ]
  },
  {
   "cell_type": "code",
   "execution_count": 11,
   "id": "326c2b0d-9b48-45dd-a418-c17f68b84054",
   "metadata": {},
   "outputs": [],
   "source": [
    "def IP_Inv(ip):\n",
    "    ip_inv=[0]*len(ip)\n",
    "    if len(ip) != 8:\n",
    "        raise ValueError(\"Enter IP of 8 bits\")\n",
    "    for index , value in enumerate(ip):\n",
    "        ip_inv[value] = index \n",
    "    return ip_inv"
   ]
  },
  {
   "cell_type": "markdown",
   "id": "af2a5dea-cf2e-49a1-bc33-649a447058c5",
   "metadata": {},
   "source": [
    "### Doing Expansion of Plain Text from 4-Bits to 8-Bits "
   ]
  },
  {
   "cell_type": "code",
   "execution_count": 12,
   "id": "86edf0a0-de1e-4582-9da6-93b24174fe3c",
   "metadata": {},
   "outputs": [],
   "source": [
    "def EP(ptip,ep):\n",
    "    if len(ep) != 8:\n",
    "        raise ValueError(\"Enter EP of 8 bits\")\n",
    "    return [ptip[i] for i in ep]"
   ]
  },
  {
   "cell_type": "markdown",
   "id": "d6398f05-006f-4c8c-bbbb-834021f5b979",
   "metadata": {},
   "source": [
    "### Using S-Box to convert Plain Text from 8-Bits to 4-Bits"
   ]
  },
  {
   "cell_type": "code",
   "execution_count": 13,
   "id": "e610c6b2-a01e-4b8d-b6f2-6440c291d8a7",
   "metadata": {},
   "outputs": [],
   "source": [
    "def S_BOX(text):\n",
    "    s0,s1= divide(text)\n",
    "    s0r,s0c=r_c(s0)\n",
    "    s1r,s1c=r_c(s1)\n",
    "    sl=S0[s0r][s0c]\n",
    "    sr=S1[s1r][s1c]\n",
    "    a=list(bin(sl)[2:])\n",
    "    b=list(bin(sr)[2:])\n",
    "    if len(a)<2:\n",
    "        a=\"\".join(a)\n",
    "        a='0'+a\n",
    "    else:\n",
    "        a=\"\".join(a)\n",
    "    if len(b)<2:\n",
    "        b=\"\".join(b)\n",
    "        b='0'+b\n",
    "    else:\n",
    "        b=\"\".join(b)\n",
    "    s=list(map(int,list(a+b)))\n",
    "    return s"
   ]
  },
  {
   "cell_type": "markdown",
   "id": "ba4e3be8-f2b6-4a0c-8ec0-0b0165c4a9e5",
   "metadata": {},
   "source": [
    "### Function used for Encryption & Decryption"
   ]
  },
  {
   "cell_type": "code",
   "execution_count": 14,
   "id": "509893d6-65a5-4ce2-96b1-266a1bc1fbc0",
   "metadata": {},
   "outputs": [],
   "source": [
    "def fk(t,k1,k2,ip,ipinv,p4,ep):\n",
    "    ptip = PtIp(t,ip)\n",
    "    l1,r1=divide(ptip)\n",
    "    l2=r1#swaped\n",
    "    r1=EP(r1,ep) \n",
    "    r1=XOR(r1,k1) \n",
    "    r1=S_BOX(r1) \n",
    "    r1=P4(p4,r1)\n",
    "    r2=XOR(l1,r1)\n",
    "    r3=r2#direct\n",
    "    r2=EP(r2,ep)\n",
    "    r2=XOR(r2,k2)\n",
    "    r2=S_BOX(r2)\n",
    "    r2=P4(p4,r2)\n",
    "    l3=XOR(l2,r2)\n",
    "    text= list(map(int,list((\"\".join(map(str,l3)))+\"\".join(map(str,r3)))))\n",
    "    return PtIp(text,ipinv)"
   ]
  },
  {
   "cell_type": "markdown",
   "id": "076282f2-05dc-4ced-9a2b-e0a692f9d0f0",
   "metadata": {},
   "source": [
    "### Encryption"
   ]
  },
  {
   "cell_type": "code",
   "execution_count": 15,
   "id": "40ca2948-91ea-4921-ba3f-d87bf0a6962d",
   "metadata": {},
   "outputs": [],
   "source": [
    "def encrypt(pt,ip,ipinv,key,p4,ep):\n",
    "    k1=key[0]\n",
    "    k2=key[1]\n",
    "    return fk(pt,k1,k2,ip,ipinv,p4,ep)"
   ]
  },
  {
   "cell_type": "markdown",
   "id": "5faafd33-549f-4e26-84b8-fcf1467b7f69",
   "metadata": {},
   "source": [
    "### Decryption"
   ]
  },
  {
   "cell_type": "code",
   "execution_count": 16,
   "id": "dded1baa-26a2-467e-9ad4-97772ee356d8",
   "metadata": {},
   "outputs": [],
   "source": [
    "def decrypt(ct, ip, ipinv, key, p4, ep):\n",
    "    k1=key[1]\n",
    "    k2=key[0]\n",
    "    return fk(ct,k1,k2,ip,ipinv,p4,ep)"
   ]
  },
  {
   "cell_type": "code",
   "execution_count": 17,
   "id": "11ad8977-0f7e-47ca-bb06-5d3ee35bfbc1",
   "metadata": {},
   "outputs": [
    {
     "name": "stdin",
     "output_type": "stream",
     "text": [
      "Enter PT: 01101101\n",
      "Enter key : 1010000010\n",
      "Enter IP_index = IP_bit - 1 e.g.) 1234 -> 0123 : 15203746\n",
      "Enter P10_index = P10_bit - 1 eg 1 -> 0 : 2416390875\n",
      "Enter P8_index : 52637498\n",
      "Enter P4_index : 1230\n",
      "Enter EP_index : 30121230\n"
     ]
    },
    {
     "name": "stdout",
     "output_type": "stream",
     "text": [
      "Encrypted Text : [0, 1, 1, 0, 0, 0, 1, 0]\n",
      "Decrypted Text : [0, 1, 1, 0, 1, 1, 0, 1]\n"
     ]
    }
   ],
   "source": [
    "pt=list(map(int,list(input(\"Enter PT:\")))) # 01101101\n",
    "key=list(map(int,list(input(\"Enter key :\"))))# 1010000010\n",
    "ip=list(map(int,list(input(\"Enter IP_index = IP_bit - 1 e.g.) 1234 -> 0123 :\"))))# 15203746\n",
    "p10=list(map(int,list(input(\"Enter P10_index = P10_bit - 1 eg 1 -> 0 :\"))))# 2416390875\n",
    "p8=list(map(int,list(input(\"Enter P8_index :\")))) # 52637498\n",
    "p4=list(map(int,list(input(\"Enter P4_index :\")))) # 1230\n",
    "ep=list(map(int,list(input(\"Enter EP_index :\")))) # 30121230\n",
    "ipinv= IP_Inv(ip)\n",
    "key=keygen(p10,p8,key)\n",
    "ct=encrypt(pt,ip,ipinv,key,p4,ep)\n",
    "ot=decrypt(ct,ip,ipinv,key,p4,ep)\n",
    "print(\"Encrypted Text :\",ct)\n",
    "print(\"Decrypted Text :\",ot)"
   ]
  }
 ],
 "metadata": {
  "kernelspec": {
   "display_name": "Python 3 (ipykernel)",
   "language": "python",
   "name": "python3"
  },
  "language_info": {
   "codemirror_mode": {
    "name": "ipython",
    "version": 3
   },
   "file_extension": ".py",
   "mimetype": "text/x-python",
   "name": "python",
   "nbconvert_exporter": "python",
   "pygments_lexer": "ipython3",
   "version": "3.12.6"
  }
 },
 "nbformat": 4,
 "nbformat_minor": 5
}
